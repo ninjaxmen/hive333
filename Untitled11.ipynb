{
  "nbformat": 4,
  "nbformat_minor": 0,
  "metadata": {
    "colab": {
      "name": "Untitled11.ipynb",
      "provenance": [],
      "authorship_tag": "ABX9TyMUOE28OdQdSYRbIhW1TWmo",
      "include_colab_link": true
    },
    "kernelspec": {
      "name": "python3",
      "display_name": "Python 3"
    },
    "language_info": {
      "name": "python"
    }
  },
  "cells": [
    {
      "cell_type": "markdown",
      "metadata": {
        "id": "view-in-github",
        "colab_type": "text"
      },
      "source": [
        "<a href=\"https://colab.research.google.com/github/ninjaxmen/hive333/blob/main/Untitled11.ipynb\" target=\"_parent\"><img src=\"https://colab.research.google.com/assets/colab-badge.svg\" alt=\"Open In Colab\"/></a>"
      ]
    },
    {
      "cell_type": "code",
      "metadata": {
        "colab": {
          "base_uri": "https://localhost:8080/"
        },
        "id": "hkFVvJNF2i0A",
        "outputId": "18334a9a-d1c6-41de-a771-3032d6a4af94"
      },
      "source": [
        "pip install pyspark\n"
      ],
      "execution_count": 1,
      "outputs": [
        {
          "output_type": "stream",
          "name": "stdout",
          "text": [
            "Collecting pyspark\n",
            "  Downloading pyspark-3.2.0.tar.gz (281.3 MB)\n",
            "\u001b[K     |████████████████████████████████| 281.3 MB 36 kB/s \n",
            "\u001b[?25hCollecting py4j==0.10.9.2\n",
            "  Downloading py4j-0.10.9.2-py2.py3-none-any.whl (198 kB)\n",
            "\u001b[K     |████████████████████████████████| 198 kB 31.2 MB/s \n",
            "\u001b[?25hBuilding wheels for collected packages: pyspark\n",
            "  Building wheel for pyspark (setup.py) ... \u001b[?25l\u001b[?25hdone\n",
            "  Created wheel for pyspark: filename=pyspark-3.2.0-py2.py3-none-any.whl size=281805912 sha256=e4b0c5e709c7f261ab207456eafcc1ff52dc4c086b983b8623b54d3040d0a712\n",
            "  Stored in directory: /root/.cache/pip/wheels/0b/de/d2/9be5d59d7331c6c2a7c1b6d1a4f463ce107332b1ecd4e80718\n",
            "Successfully built pyspark\n",
            "Installing collected packages: py4j, pyspark\n",
            "Successfully installed py4j-0.10.9.2 pyspark-3.2.0\n"
          ]
        }
      ]
    },
    {
      "cell_type": "code",
      "metadata": {
        "id": "zOSXQhAm2oAJ"
      },
      "source": [
        "from pyspark.sql import SparkSession"
      ],
      "execution_count": 2,
      "outputs": []
    },
    {
      "cell_type": "code",
      "metadata": {
        "id": "8NxgAZ5D23jY"
      },
      "source": [
        "spark = SparkSession.builder.appName('Dataframe').getOrCreate()"
      ],
      "execution_count": 3,
      "outputs": []
    },
    {
      "cell_type": "code",
      "metadata": {
        "colab": {
          "base_uri": "https://localhost:8080/",
          "height": 218
        },
        "id": "z1OymwK73FHI",
        "outputId": "06f935c6-dbdd-4cdf-d2a0-507e7ea92464"
      },
      "source": [
        "spark"
      ],
      "execution_count": 4,
      "outputs": [
        {
          "output_type": "execute_result",
          "data": {
            "text/html": [
              "\n",
              "            <div>\n",
              "                <p><b>SparkSession - in-memory</b></p>\n",
              "                \n",
              "        <div>\n",
              "            <p><b>SparkContext</b></p>\n",
              "\n",
              "            <p><a href=\"http://9b86fb140b74:4040\">Spark UI</a></p>\n",
              "\n",
              "            <dl>\n",
              "              <dt>Version</dt>\n",
              "                <dd><code>v3.2.0</code></dd>\n",
              "              <dt>Master</dt>\n",
              "                <dd><code>local[*]</code></dd>\n",
              "              <dt>AppName</dt>\n",
              "                <dd><code>Dataframe</code></dd>\n",
              "            </dl>\n",
              "        </div>\n",
              "        \n",
              "            </div>\n",
              "        "
            ],
            "text/plain": [
              "<pyspark.sql.session.SparkSession at 0x7f08b1e78790>"
            ]
          },
          "metadata": {},
          "execution_count": 4
        }
      ]
    },
    {
      "cell_type": "code",
      "metadata": {
        "id": "jyeHIO1m3Lfd"
      },
      "source": [
        "df1 = spark.read.option('header', 'true').csv('/content/file.csv', inferSchema=True)"
      ],
      "execution_count": 13,
      "outputs": []
    },
    {
      "cell_type": "code",
      "metadata": {
        "colab": {
          "base_uri": "https://localhost:8080/"
        },
        "id": "68FwHyt848-2",
        "outputId": "f3007f1f-445b-4759-cbae-a3cca793be9a"
      },
      "source": [
        "df1.printSchema()"
      ],
      "execution_count": 14,
      "outputs": [
        {
          "output_type": "stream",
          "name": "stdout",
          "text": [
            "root\n",
            " |-- name: string (nullable = true)\n",
            " |-- age: integer (nullable = true)\n",
            " |-- experience: integer (nullable = true)\n",
            "\n"
          ]
        }
      ]
    },
    {
      "cell_type": "code",
      "metadata": {
        "colab": {
          "base_uri": "https://localhost:8080/"
        },
        "id": "8rMOyNTs5jPg",
        "outputId": "6d1a5daa-0138-4191-b584-3a9b03f9271f"
      },
      "source": [
        "df1 = spark.read.csv('/content/file.csv',header=True, inferSchema=True)\n",
        "df1.printSchema()"
      ],
      "execution_count": 16,
      "outputs": [
        {
          "output_type": "stream",
          "name": "stdout",
          "text": [
            "root\n",
            " |-- name: string (nullable = true)\n",
            " |-- age: integer (nullable = true)\n",
            " |-- experience: integer (nullable = true)\n",
            "\n"
          ]
        }
      ]
    },
    {
      "cell_type": "code",
      "metadata": {
        "colab": {
          "base_uri": "https://localhost:8080/"
        },
        "id": "HQSNl2NB56aL",
        "outputId": "5d481874-c5ae-485d-bbc0-035424bc4831"
      },
      "source": [
        "df1.show()"
      ],
      "execution_count": 19,
      "outputs": [
        {
          "output_type": "stream",
          "name": "stdout",
          "text": [
            "+-----------------+---+----------+\n",
            "|             name|age|experience|\n",
            "+-----------------+---+----------+\n",
            "|\\talbert einstein| 60|        10|\n",
            "|     isaac newton| 67|         8|\n",
            "|      marie curie| 80|        25|\n",
            "|          galilée| 89|       100|\n",
            "+-----------------+---+----------+\n",
            "\n"
          ]
        }
      ]
    },
    {
      "cell_type": "code",
      "metadata": {
        "colab": {
          "base_uri": "https://localhost:8080/"
        },
        "id": "iQ3Fb2AF6VkP",
        "outputId": "05a10104-76b1-47ee-fc47-f25a43d28f7d"
      },
      "source": [
        "df1.select(['Name', 'age']).show()"
      ],
      "execution_count": 25,
      "outputs": [
        {
          "output_type": "stream",
          "name": "stdout",
          "text": [
            "+-----------------+---+\n",
            "|             Name|age|\n",
            "+-----------------+---+\n",
            "|\\talbert einstein| 60|\n",
            "|     isaac newton| 67|\n",
            "|      marie curie| 80|\n",
            "|          galilée| 89|\n",
            "+-----------------+---+\n",
            "\n"
          ]
        }
      ]
    },
    {
      "cell_type": "code",
      "metadata": {
        "colab": {
          "base_uri": "https://localhost:8080/"
        },
        "id": "r_wC2B1a7HiS",
        "outputId": "9b47cbbd-332e-48b4-b7a0-45e0ec24b896"
      },
      "source": [
        "df1['name']"
      ],
      "execution_count": 26,
      "outputs": [
        {
          "output_type": "execute_result",
          "data": {
            "text/plain": [
              "Column<'name'>"
            ]
          },
          "metadata": {},
          "execution_count": 26
        }
      ]
    },
    {
      "cell_type": "code",
      "metadata": {
        "colab": {
          "base_uri": "https://localhost:8080/"
        },
        "id": "zJqP5TYY7Nmi",
        "outputId": "1d0620b0-ff6d-486e-b0c8-f3ced028493c"
      },
      "source": [
        "df1.dtypes"
      ],
      "execution_count": 27,
      "outputs": [
        {
          "output_type": "execute_result",
          "data": {
            "text/plain": [
              "[('name', 'string'), ('age', 'int'), ('experience', 'int')]"
            ]
          },
          "metadata": {},
          "execution_count": 27
        }
      ]
    },
    {
      "cell_type": "code",
      "metadata": {
        "colab": {
          "base_uri": "https://localhost:8080/"
        },
        "id": "xcQxoBC07Tqm",
        "outputId": "0ba9421d-bf02-4b9e-80ef-cb94742a3fb5"
      },
      "source": [
        "df1.describe().show()"
      ],
      "execution_count": 29,
      "outputs": [
        {
          "output_type": "stream",
          "name": "stdout",
          "text": [
            "+-------+-----------------+------------------+----------+\n",
            "|summary|             name|               age|experience|\n",
            "+-------+-----------------+------------------+----------+\n",
            "|  count|                4|                 4|         4|\n",
            "|   mean|             null|              74.0|     35.75|\n",
            "| stddev|             null|12.987173159185437|      43.5|\n",
            "|    min|\\talbert einstein|                60|         8|\n",
            "|    max|      marie curie|                89|       100|\n",
            "+-------+-----------------+------------------+----------+\n",
            "\n"
          ]
        }
      ]
    },
    {
      "cell_type": "code",
      "metadata": {
        "id": "cf-0Pk587mzP"
      },
      "source": [
        "df2 =  df1.withColumn('age after 2 years', df1['age'] + 2)"
      ],
      "execution_count": 33,
      "outputs": []
    },
    {
      "cell_type": "code",
      "metadata": {
        "colab": {
          "base_uri": "https://localhost:8080/"
        },
        "id": "hv-TGx158E7t",
        "outputId": "8b491424-60f6-464c-8e2c-c0eca4b7b21c"
      },
      "source": [
        "df2.show()"
      ],
      "execution_count": 34,
      "outputs": [
        {
          "output_type": "stream",
          "name": "stdout",
          "text": [
            "+-----------------+---+----------+-----------------+\n",
            "|             name|age|experience|age after 2 years|\n",
            "+-----------------+---+----------+-----------------+\n",
            "|\\talbert einstein| 60|        10|               62|\n",
            "|     isaac newton| 67|         8|               69|\n",
            "|      marie curie| 80|        25|               82|\n",
            "|          galilée| 89|       100|               91|\n",
            "+-----------------+---+----------+-----------------+\n",
            "\n"
          ]
        }
      ]
    },
    {
      "cell_type": "code",
      "metadata": {
        "colab": {
          "base_uri": "https://localhost:8080/"
        },
        "id": "_23dNxnq8K_z",
        "outputId": "59b6e730-aad6-4931-9e1e-51037c1c47b4"
      },
      "source": [
        "df1 =  df2.drop('age after 2 years').show()"
      ],
      "execution_count": 36,
      "outputs": [
        {
          "output_type": "stream",
          "name": "stdout",
          "text": [
            "+-----------------+---+----------+\n",
            "|             name|age|experience|\n",
            "+-----------------+---+----------+\n",
            "|\\talbert einstein| 60|        10|\n",
            "|     isaac newton| 67|         8|\n",
            "|      marie curie| 80|        25|\n",
            "|          galilée| 89|       100|\n",
            "+-----------------+---+----------+\n",
            "\n"
          ]
        }
      ]
    },
    {
      "cell_type": "code",
      "metadata": {
        "colab": {
          "base_uri": "https://localhost:8080/"
        },
        "id": "iNmgyLuI8a4q",
        "outputId": "857b1f0b-14f3-4c11-fa93-a6bb3a11f2bb"
      },
      "source": [
        "df2.withColumnRenamed('Name', 'CoolName').show()"
      ],
      "execution_count": 38,
      "outputs": [
        {
          "output_type": "stream",
          "name": "stdout",
          "text": [
            "+-----------------+---+----------+-----------------+\n",
            "|         CoolName|age|experience|age after 2 years|\n",
            "+-----------------+---+----------+-----------------+\n",
            "|\\talbert einstein| 60|        10|               62|\n",
            "|     isaac newton| 67|         8|               69|\n",
            "|      marie curie| 80|        25|               82|\n",
            "|          galilée| 89|       100|               91|\n",
            "+-----------------+---+----------+-----------------+\n",
            "\n"
          ]
        }
      ]
    },
    {
      "cell_type": "code",
      "metadata": {
        "id": "iFu6POZL9LfQ"
      },
      "source": [
        "from pyspark.sql import SparkSession\n",
        "spark = SparkSession.builder.appName('Practice').getOrCreate()"
      ],
      "execution_count": 46,
      "outputs": []
    },
    {
      "cell_type": "code",
      "metadata": {
        "colab": {
          "base_uri": "https://localhost:8080/"
        },
        "id": "hI6e3Ihv-B4W",
        "outputId": "058262cb-1bc5-4cb1-bcdd-ed07b3569463"
      },
      "source": [
        "spark.read.csv('/content/file (1).csv', header=True, inferSchema=True)"
      ],
      "execution_count": 77,
      "outputs": [
        {
          "output_type": "execute_result",
          "data": {
            "text/plain": [
              "DataFrame[name: string, age: string, experience: int, salary: string]"
            ]
          },
          "metadata": {},
          "execution_count": 77
        }
      ]
    },
    {
      "cell_type": "code",
      "metadata": {
        "id": "ddlnc3MS-ROa"
      },
      "source": [
        "df_pyspark = spark.read.csv('/content/file (1).csv', header=True, inferSchema=True)"
      ],
      "execution_count": 75,
      "outputs": []
    },
    {
      "cell_type": "code",
      "metadata": {
        "colab": {
          "base_uri": "https://localhost:8080/"
        },
        "id": "E_D9JJ5vAhGV",
        "outputId": "51d5b8a2-458b-430b-a8dd-c1ab91ccebe3"
      },
      "source": [
        "df_pyspark.show()"
      ],
      "execution_count": 76,
      "outputs": [
        {
          "output_type": "stream",
          "name": "stdout",
          "text": [
            "+-----------------+----+----------+--------+\n",
            "|             name| age|experience|  salary|\n",
            "+-----------------+----+----------+--------+\n",
            "|\\talbert einstein|  60|        10|  283874|\n",
            "|     isaac newton|  67|         8|  238238|\n",
            "|      marie curie|  80|        25|   23834|\n",
            "|          galilée|  89|       100| 3847374|\n",
            "|             null|  23|      2323| 2323232|\n",
            "|             null| 234|       444|44444444|\n",
            "|            DeVoe|null|      2323|  232323|\n",
            "|             Zoom|  30|      3323|    null|\n",
            "+-----------------+----+----------+--------+\n",
            "\n"
          ]
        }
      ]
    },
    {
      "cell_type": "code",
      "metadata": {
        "colab": {
          "base_uri": "https://localhost:8080/"
        },
        "id": "0K6DO0TGAqzm",
        "outputId": "ef9f3a4a-4a1c-43cc-d37c-168758ea792a"
      },
      "source": [
        "df_pyspark.drop('name').show()"
      ],
      "execution_count": 54,
      "outputs": [
        {
          "output_type": "stream",
          "name": "stdout",
          "text": [
            "+----+----------+--------+\n",
            "| age|experience|  salary|\n",
            "+----+----------+--------+\n",
            "|  60|        10|  283874|\n",
            "|  67|         8|  238238|\n",
            "|  80|        25|   23834|\n",
            "|  89|       100| 3847374|\n",
            "|  23|      2323| 2323232|\n",
            "| 234|       444|44444444|\n",
            "|null|      2323|  232323|\n",
            "|  30|      3323|    null|\n",
            "+----+----------+--------+\n",
            "\n"
          ]
        }
      ]
    },
    {
      "cell_type": "code",
      "metadata": {
        "colab": {
          "base_uri": "https://localhost:8080/"
        },
        "id": "3Pga4H6OA5_K",
        "outputId": "f5ad4853-905f-447d-9428-032a2d7a8b20"
      },
      "source": [
        "df_pyspark.show()"
      ],
      "execution_count": 55,
      "outputs": [
        {
          "output_type": "stream",
          "name": "stdout",
          "text": [
            "+-----------------+----+----------+--------+\n",
            "|             name| age|experience|  salary|\n",
            "+-----------------+----+----------+--------+\n",
            "|\\talbert einstein|  60|        10|  283874|\n",
            "|     isaac newton|  67|         8|  238238|\n",
            "|      marie curie|  80|        25|   23834|\n",
            "|          galilée|  89|       100| 3847374|\n",
            "|             null|  23|      2323| 2323232|\n",
            "|             null| 234|       444|44444444|\n",
            "|            DeVoe|null|      2323|  232323|\n",
            "|             Zoom|  30|      3323|    null|\n",
            "+-----------------+----+----------+--------+\n",
            "\n"
          ]
        }
      ]
    },
    {
      "cell_type": "code",
      "metadata": {
        "colab": {
          "base_uri": "https://localhost:8080/"
        },
        "id": "fZqzhIchBBxQ",
        "outputId": "39209009-067a-45d9-eb54-178cc23c6951"
      },
      "source": [
        "df_pyspark.na.drop().show()"
      ],
      "execution_count": 56,
      "outputs": [
        {
          "output_type": "stream",
          "name": "stdout",
          "text": [
            "+-----------------+----+----------+--------+\n",
            "|             name| age|experience|  salary|\n",
            "+-----------------+----+----------+--------+\n",
            "|\\talbert einstein|  60|        10|  283874|\n",
            "|     isaac newton|  67|         8|  238238|\n",
            "|      marie curie|  80|        25|   23834|\n",
            "|          galilée|  89|       100| 3847374|\n",
            "|             null|  23|      2323| 2323232|\n",
            "|             null| 234|       444|44444444|\n",
            "|            DeVoe|null|      2323|  232323|\n",
            "|             Zoom|  30|      3323|    null|\n",
            "+-----------------+----+----------+--------+\n",
            "\n"
          ]
        }
      ]
    },
    {
      "cell_type": "code",
      "metadata": {
        "colab": {
          "base_uri": "https://localhost:8080/"
        },
        "id": "mLTftoY5BB6M",
        "outputId": "db05b8bb-9aaa-497f-f963-0898c80e3dc1"
      },
      "source": [
        "df_pyspark.na.drop(how=\"any\").show()"
      ],
      "execution_count": 59,
      "outputs": [
        {
          "output_type": "stream",
          "name": "stdout",
          "text": [
            "+-----------------+----+----------+--------+\n",
            "|             name| age|experience|  salary|\n",
            "+-----------------+----+----------+--------+\n",
            "|\\talbert einstein|  60|        10|  283874|\n",
            "|     isaac newton|  67|         8|  238238|\n",
            "|      marie curie|  80|        25|   23834|\n",
            "|          galilée|  89|       100| 3847374|\n",
            "|             null|  23|      2323| 2323232|\n",
            "|             null| 234|       444|44444444|\n",
            "|            DeVoe|null|      2323|  232323|\n",
            "|             Zoom|  30|      3323|    null|\n",
            "+-----------------+----+----------+--------+\n",
            "\n"
          ]
        }
      ]
    },
    {
      "cell_type": "code",
      "metadata": {
        "colab": {
          "base_uri": "https://localhost:8080/"
        },
        "id": "xegpF1YXCHn0",
        "outputId": "1c5e807b-52e6-4e73-fd24-9711f37c3e71"
      },
      "source": [
        "df_pyspark.describe().show() "
      ],
      "execution_count": 60,
      "outputs": [
        {
          "output_type": "stream",
          "name": "stdout",
          "text": [
            "+-------+-----------------+-----------------+------------------+--------------------+\n",
            "|summary|             name|              age|        experience|              salary|\n",
            "+-------+-----------------+-----------------+------------------+--------------------+\n",
            "|  count|                8|                8|                 8|                   8|\n",
            "|   mean|             null|83.28571428571429|            1069.5|   7341902.714285715|\n",
            "| stddev|             null|70.75712987799483|1357.1119545353865|1.6423435651820792E7|\n",
            "|    min|\\talbert einstein|               23|                 8|              232323|\n",
            "|    max|             null|             null|              3323|                null|\n",
            "+-------+-----------------+-----------------+------------------+--------------------+\n",
            "\n"
          ]
        }
      ]
    },
    {
      "cell_type": "code",
      "metadata": {
        "colab": {
          "base_uri": "https://localhost:8080/"
        },
        "id": "iRRjVAbJIDcS",
        "outputId": "35d8c09c-c1df-42cf-c15e-db9924a8f50f"
      },
      "source": [
        "df_pyspark.na.drop(how=\"any\", thresh=3).show()"
      ],
      "execution_count": 63,
      "outputs": [
        {
          "output_type": "stream",
          "name": "stdout",
          "text": [
            "+-----------------+----+----------+--------+\n",
            "|             name| age|experience|  salary|\n",
            "+-----------------+----+----------+--------+\n",
            "|\\talbert einstein|  60|        10|  283874|\n",
            "|     isaac newton|  67|         8|  238238|\n",
            "|      marie curie|  80|        25|   23834|\n",
            "|          galilée|  89|       100| 3847374|\n",
            "|             null|  23|      2323| 2323232|\n",
            "|             null| 234|       444|44444444|\n",
            "|            DeVoe|null|      2323|  232323|\n",
            "|             Zoom|  30|      3323|    null|\n",
            "+-----------------+----+----------+--------+\n",
            "\n"
          ]
        }
      ]
    },
    {
      "cell_type": "code",
      "metadata": {
        "colab": {
          "base_uri": "https://localhost:8080/"
        },
        "id": "_MGHLubNJAMd",
        "outputId": "b4ba20b9-19a2-43c3-92e4-3975ae7f93dd"
      },
      "source": [
        "df_pyspark.na.drop().show()"
      ],
      "execution_count": 62,
      "outputs": [
        {
          "output_type": "stream",
          "name": "stdout",
          "text": [
            "+-----------------+----+----------+--------+\n",
            "|             name| age|experience|  salary|\n",
            "+-----------------+----+----------+--------+\n",
            "|\\talbert einstein|  60|        10|  283874|\n",
            "|     isaac newton|  67|         8|  238238|\n",
            "|      marie curie|  80|        25|   23834|\n",
            "|          galilée|  89|       100| 3847374|\n",
            "|             null|  23|      2323| 2323232|\n",
            "|             null| 234|       444|44444444|\n",
            "|            DeVoe|null|      2323|  232323|\n",
            "|             Zoom|  30|      3323|    null|\n",
            "+-----------------+----+----------+--------+\n",
            "\n"
          ]
        }
      ]
    },
    {
      "cell_type": "code",
      "metadata": {
        "colab": {
          "base_uri": "https://localhost:8080/"
        },
        "id": "qggch9xbLZjy",
        "outputId": "2a13a1bc-6f79-4cf7-d836-dc169c42df13"
      },
      "source": [
        "df_pyspark.na.fill('Missing Values', ['Experience', 'age']).show()"
      ],
      "execution_count": 67,
      "outputs": [
        {
          "output_type": "stream",
          "name": "stdout",
          "text": [
            "+-----------------+----+----------+--------+\n",
            "|             name| age|experience|  salary|\n",
            "+-----------------+----+----------+--------+\n",
            "|\\talbert einstein|  60|        10|  283874|\n",
            "|     isaac newton|  67|         8|  238238|\n",
            "|      marie curie|  80|        25|   23834|\n",
            "|          galilée|  89|       100| 3847374|\n",
            "|             null|  23|      2323| 2323232|\n",
            "|             null| 234|       444|44444444|\n",
            "|            DeVoe|null|      2323|  232323|\n",
            "|             Zoom|  30|      3323|    null|\n",
            "+-----------------+----+----------+--------+\n",
            "\n"
          ]
        }
      ]
    },
    {
      "cell_type": "code",
      "metadata": {
        "id": "hcfrqemnQHqY"
      },
      "source": [
        "from pyspark.ml.feature import Imputer\n",
        "imputer = Imputer(inputCols=['experience'],\n",
        "                  outputCols=[\"{}_imputed\".format(c) for c in ['experience']]\n",
        "                  ).setStrategy(\"mean\")\n"
      ],
      "execution_count": 88,
      "outputs": []
    },
    {
      "cell_type": "code",
      "metadata": {
        "colab": {
          "base_uri": "https://localhost:8080/"
        },
        "id": "8gjsuQm6S0hs",
        "outputId": "75e4dd8c-f266-462a-9c69-4800f66a25e7"
      },
      "source": [
        "imputer.fit(df_pyspark).transform(df_pyspark).show()"
      ],
      "execution_count": 89,
      "outputs": [
        {
          "output_type": "stream",
          "name": "stdout",
          "text": [
            "+-----------------+----+----------+--------+------------------+\n",
            "|             name| age|experience|  salary|experience_imputed|\n",
            "+-----------------+----+----------+--------+------------------+\n",
            "|\\talbert einstein|  60|        10|  283874|                10|\n",
            "|     isaac newton|  67|         8|  238238|                 8|\n",
            "|      marie curie|  80|        25|   23834|                25|\n",
            "|          galilée|  89|       100| 3847374|               100|\n",
            "|             null|  23|      2323| 2323232|              2323|\n",
            "|             null| 234|       444|44444444|               444|\n",
            "|            DeVoe|null|      2323|  232323|              2323|\n",
            "|             Zoom|  30|      3323|    null|              3323|\n",
            "+-----------------+----+----------+--------+------------------+\n",
            "\n"
          ]
        }
      ]
    },
    {
      "cell_type": "code",
      "metadata": {
        "colab": {
          "base_uri": "https://localhost:8080/"
        },
        "id": "JLmgFmJRUjit",
        "outputId": "9a3ff023-5feb-483a-ed86-9bc09114ff3f"
      },
      "source": [
        "spark.read.option('header', 'true').csv('/content/file (1).csv', inferSchema=True)"
      ],
      "execution_count": 87,
      "outputs": [
        {
          "output_type": "execute_result",
          "data": {
            "text/plain": [
              "DataFrame[name: string, age: string, experience: int, salary: string]"
            ]
          },
          "metadata": {},
          "execution_count": 87
        }
      ]
    },
    {
      "cell_type": "code",
      "metadata": {
        "id": "6hpqyb7GVb3j"
      },
      "source": [
        "from pyspark.sql import SparkSession\n",
        "spark =SparkSession.builder.appName('dataframe').getOrCreate()"
      ],
      "execution_count": 90,
      "outputs": []
    },
    {
      "cell_type": "code",
      "metadata": {
        "colab": {
          "base_uri": "https://localhost:8080/"
        },
        "id": "vXXNoqOmVra8",
        "outputId": "ea56d0e7-1d34-403e-ab90-a50ebfbddb55"
      },
      "source": [
        "df1 = spark.read.csv('/content/bitcoin_price_1week_Test - Test.csv', header=True, inferSchema=True)\n",
        "df1.show()  "
      ],
      "execution_count": 97,
      "outputs": [
        {
          "output_type": "stream",
          "name": "stdout",
          "text": [
            "+------------+-------+-------+-------+-------+-------------+--------------+\n",
            "|        Date|   Open|   High|    Low|  Close|       Volume|    Market Cap|\n",
            "+------------+-------+-------+-------+-------+-------------+--------------+\n",
            "|Aug 07, 2017|3212.78|3397.68|3180.89|3378.94|1,482,280,000|52,987,300,000|\n",
            "|Aug 06, 2017|3257.61|3293.29| 3155.6|3213.94|1,105,030,000|53,720,900,000|\n",
            "|Aug 05, 2017|2897.63|3290.01|2874.83|3252.91|1,945,700,000|47,778,200,000|\n",
            "|Aug 04, 2017|2806.93|2899.33|2743.72|2895.89|1,002,120,000|46,276,200,000|\n",
            "|Aug 03, 2017|2709.56|2813.31|2685.14|2804.73|  804,797,000|44,666,400,000|\n",
            "|Aug 02, 2017|2727.13|2762.53|2668.59|2710.67|1,094,950,000|44,950,800,000|\n",
            "|Aug 01, 2017| 2871.3|2921.35|2685.61|2718.26|1,324,670,000|47,321,800,000|\n",
            "+------------+-------+-------+-------+-------+-------------+--------------+\n",
            "\n"
          ]
        }
      ]
    },
    {
      "cell_type": "code",
      "metadata": {
        "colab": {
          "base_uri": "https://localhost:8080/"
        },
        "id": "hq_sSyKGYZlx",
        "outputId": "d5c85add-a77d-4a11-f801-69b48cd71520"
      },
      "source": [
        "df1.filter(\"Open <= 2897.63 \").select(['Open', 'Close']).show()"
      ],
      "execution_count": 99,
      "outputs": [
        {
          "output_type": "stream",
          "name": "stdout",
          "text": [
            "+-------+-------+\n",
            "|   Open|  Close|\n",
            "+-------+-------+\n",
            "|2897.63|3252.91|\n",
            "|2806.93|2895.89|\n",
            "|2709.56|2804.73|\n",
            "|2727.13|2710.67|\n",
            "| 2871.3|2718.26|\n",
            "+-------+-------+\n",
            "\n"
          ]
        }
      ]
    },
    {
      "cell_type": "code",
      "metadata": {
        "id": "dOsCGtWEZccS"
      },
      "source": [
        ""
      ],
      "execution_count": null,
      "outputs": []
    }
  ]
}